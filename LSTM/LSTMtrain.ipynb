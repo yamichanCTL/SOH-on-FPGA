{
 "cells": [
  {
   "cell_type": "code",
   "execution_count": 1,
   "metadata": {
    "collapsed": true,
    "ExecuteTime": {
     "end_time": "2024-03-01T10:13:39.364975100Z",
     "start_time": "2024-03-01T10:13:24.553043200Z"
    }
   },
   "outputs": [
    {
     "name": "stdout",
     "output_type": "stream",
     "text": [
      "WARNING:tensorflow:From E:\\Anaconda3.8\\envs\\battery\\lib\\site-packages\\keras\\src\\losses.py:2976: The name tf.losses.sparse_softmax_cross_entropy is deprecated. Please use tf.compat.v1.losses.sparse_softmax_cross_entropy instead.\n",
      "\n"
     ]
    }
   ],
   "source": [
    "from utils import *"
   ]
  },
  {
   "cell_type": "markdown",
   "source": [
    "## 1.hyperparameter"
   ],
   "metadata": {
    "collapsed": false
   }
  },
  {
   "cell_type": "code",
   "execution_count": 2,
   "outputs": [],
   "source": [
    "input_size = 1\n",
    "hidden_size = 64\n",
    "num_layers = 1\n",
    "output_size = 1\n",
    "seq_len = 10   # 预测序列长度\n",
    "epoch = 500\n",
    "learning_rate = 0.001"
   ],
   "metadata": {
    "collapsed": false,
    "ExecuteTime": {
     "end_time": "2024-03-01T10:14:12.590019600Z",
     "start_time": "2024-03-01T10:14:12.564010300Z"
    }
   }
  },
  {
   "cell_type": "code",
   "execution_count": null,
   "outputs": [],
   "source": [
    "if __name__ == \"__main__\":\n",
    "    # checking if GPU is available\n",
    "    device = torch.device(\"cpu\")\n",
    "    if (torch.cuda.is_available()):\n",
    "        device = torch.device(\"cuda:0\")\n",
    "        print('Training on GPU.')\n",
    "    else:\n",
    "        print('No GPU available, training on CPU.')\n",
    "\n",
    "    # 构建模型\n",
    "    model = LSTMModel(input_size=input_size,\n",
    "                      hidden_size=hidden_size,\n",
    "                      output_size=output_size,\n",
    "                      num_layers=num_layers)\n",
    "\n",
    "    # dataset\n",
    "    train_data, train_data_real = data_loader('B0005', seq_len, input_size)\n",
    "    # issue3:sourceTensor.clone().detach().requires_grad_(True)\n",
    "    train_data = torch.tensor(train_data, dtype=torch.float32)\n",
    "    train_data_real = torch.tensor(train_data_real, dtype=torch.float32)\n",
    "    #vailidation\n",
    "    validation_data, validation_data_real = data_loader('B0006', seq_len, input_size)\n",
    "    validation_data = torch.tensor(validation_data, dtype=torch.float32)\n",
    "    validation_data_real = torch.tensor(validation_data_real, dtype=torch.float32)\n",
    "\n",
    "    # 定义损失函数和优化器\n",
    "    criterion = nn.MSELoss()\n",
    "    # criterion = nn.CrossEntropyLoss()\n",
    "    optimizer = optim.Adam(model.parameters(), lr=learning_rate)\n",
    "\n",
    "    # 储存路径\n",
    "    work_dir = './LSTM'\n",
    "    # 添加tensorboard\n",
    "    writer = SummaryWriter(\"{}/logs\".format(work_dir))\n",
    "\n",
    "    # device = torch.device(\"cuda:0\")\n",
    "    # model = model.to(device)\n",
    "    # criterion = criterion.to(device)\n",
    "\n",
    "    # 训练模型\n",
    "    for epoch in range(epoch):\n",
    "        print(\"-------epoch  {} -------\".format(epoch + 1))\n",
    "        # 训练步骤\n",
    "        model.train()\n",
    "\n",
    "        output = model(train_data)\n",
    "        loss = criterion(output, torch.tensor(train_data_real, dtype=torch.float32).view(-1, 1))\n",
    "        optimizer.zero_grad()\n",
    "        loss.backward()\n",
    "        optimizer.step()\n",
    "        print(\"train set Loss: {}\".format(loss.item()))\n",
    "\n",
    "        # 测试步骤\n",
    "        model.eval()\n",
    "        total_test_loss = 0\n",
    "        total_accuracy = 0\n",
    "        with torch.no_grad():  #用于在推断或验证阶段，当不需要计算梯度时，以提高效率和减少内存占用\n",
    "            test_outputs = model(validation_data)\n",
    "            loss = criterion(test_outputs, torch.tensor(validation_data_real, dtype=torch.float32).view(-1, 1))\n",
    "            # total_test_loss = total_test_loss + loss.item()\n",
    "            # accuracy = (outputs.argmax(1) == targets).sum()\n",
    "            # total_accuracy = total_accuracy + accuracy\n",
    "        print(\"test set Loss: {}\".format(loss.item()))\n",
    "    # Save the trained model\n",
    "    torch.save(model.state_dict(), 'lstm_model.pth')"
   ],
   "metadata": {
    "collapsed": false
   }
  }
 ],
 "metadata": {
  "kernelspec": {
   "display_name": "Python 3",
   "language": "python",
   "name": "python3"
  },
  "language_info": {
   "codemirror_mode": {
    "name": "ipython",
    "version": 2
   },
   "file_extension": ".py",
   "mimetype": "text/x-python",
   "name": "python",
   "nbconvert_exporter": "python",
   "pygments_lexer": "ipython2",
   "version": "2.7.6"
  }
 },
 "nbformat": 4,
 "nbformat_minor": 0
}
