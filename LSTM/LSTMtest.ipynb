{
 "cells": [
  {
   "cell_type": "code",
   "execution_count": 1,
   "id": "bbf55625",
   "metadata": {
    "ExecuteTime": {
     "end_time": "2024-03-03T20:00:56.843755300Z",
     "start_time": "2024-03-03T20:00:28.564424Z"
    }
   },
   "outputs": [
    {
     "name": "stdout",
     "output_type": "stream",
     "text": [
      "WARNING:tensorflow:From E:\\Anaconda3.8\\envs\\battery\\lib\\site-packages\\keras\\src\\losses.py:2976: The name tf.losses.sparse_softmax_cross_entropy is deprecated. Please use tf.compat.v1.losses.sparse_softmax_cross_entropy instead.\n",
      "\n"
     ]
    }
   ],
   "source": [
    "import datetime\n",
    "import numpy as np\n",
    "import pandas as pd\n",
    "import os\n",
    "from scipy.io import loadmat\n",
    "from sklearn.preprocessing import MinMaxScaler\n",
    "import matplotlib.pyplot as plt\n",
    "import seaborn as sns\n",
    "\n",
    "import torch\n",
    "import torch.nn as nn\n",
    "import torch.optim as optim\n",
    "from torch.utils.tensorboard import SummaryWriter\n",
    "from torch.utils.data import Dataset,DataLoader"
   ]
  },
  {
   "cell_type": "markdown",
   "source": [
    "# hyperparameters"
   ],
   "metadata": {
    "collapsed": false
   }
  },
  {
   "cell_type": "code",
   "execution_count": 19,
   "outputs": [],
   "source": [
    "# hyper\n",
    "features = ['SOH','voltage_measured', 'current_measured',\n",
    "            'temperature_measured', 'current_load', 'voltage_load', 'time']\n",
    "batch_size = 1\n",
    "input_size = len(features)\n",
    "hidden_size = 64\n",
    "num_layers = 1\n",
    "output_size = 1\n",
    "seq_len = 20   # 预测序列长度\n",
    "epoch = 100\n",
    "learning_rate = 0.001\n",
    "\n",
    "save_path = 'lstm_mutilinput.pth'"
   ],
   "metadata": {
    "collapsed": false,
    "ExecuteTime": {
     "end_time": "2024-03-03T20:08:59.610133800Z",
     "start_time": "2024-03-03T20:08:59.555531400Z"
    }
   }
  },
  {
   "cell_type": "markdown",
   "source": [
    "# 1.Data preprocess"
   ],
   "metadata": {
    "collapsed": false
   }
  },
  {
   "cell_type": "markdown",
   "source": [
    "## 1.1 Load Data"
   ],
   "metadata": {
    "collapsed": false
   }
  },
  {
   "cell_type": "code",
   "execution_count": 13,
   "outputs": [],
   "source": [
    "def load_data(battery):\n",
    "    mat = loadmat('../datasets/BatteryDataset/' + battery + '.mat') # MAT PATH ESSENTIAL origin\n",
    "    # mat = loadmat(battery) # MAT PATH ESSENTIAL\n",
    "    counter = 0\n",
    "    dataset = []\n",
    "    capacity_data = []\n",
    "    # print('Total data in dataset: ', len(mat[battery][0, 0]['cycle'][0])) #total cycle\n",
    "\n",
    "    for i in range(len(mat[battery][0, 0]['cycle'][0])):\n",
    "        row = mat[battery][0, 0]['cycle'][0, i]\n",
    "        if row['type'][0] == 'discharge':\n",
    "            ambient_temperature = row['ambient_temperature'][0][0]\n",
    "            date_time = datetime.datetime(int(row['time'][0][0]),\n",
    "                                          int(row['time'][0][1]),\n",
    "                                          int(row['time'][0][2]),\n",
    "                                          int(row['time'][0][3]),\n",
    "                                          int(row['time'][0][4])) + datetime.timedelta(seconds=int(row['time'][0][5]))\n",
    "            data = row['data']\n",
    "            capacity = data[0][0]['Capacity'][0][0]\n",
    "            for j in range(len(data[0][0]['Voltage_measured'][0])):\n",
    "                voltage_measured = data[0][0]['Voltage_measured'][0][j]\n",
    "                current_measured = data[0][0]['Current_measured'][0][j]\n",
    "                temperature_measured = data[0][0]['Temperature_measured'][0][j]\n",
    "                current_load = data[0][0]['Current_load'][0][j]\n",
    "                voltage_load = data[0][0]['Voltage_load'][0][j]\n",
    "                time = data[0][0]['Time'][0][j]\n",
    "                dataset.append([counter + 1, ambient_temperature, date_time, capacity,\n",
    "                                voltage_measured, current_measured,temperature_measured,\n",
    "                                current_load, voltage_load, time])\n",
    "\n",
    "            capacity_data.append([counter + 1, ambient_temperature, date_time, capacity,\n",
    "                                  voltage_measured, current_measured,temperature_measured,\n",
    "                                  current_load, voltage_load, time])\n",
    "            counter = counter + 1\n",
    "    # print(dataset[0])\n",
    "\n",
    "    return [pd.DataFrame(data=dataset,\n",
    "                         columns=['cycle', 'ambient_temperature', 'datetime','capacity',\n",
    "                                  'voltage_measured','current_measured', 'temperature_measured',\n",
    "                                  'current_load', 'voltage_load', 'time']),\n",
    "            pd.DataFrame(data=capacity_data,\n",
    "                         columns=['cycle', 'ambient_temperature', 'datetime','capacity',\n",
    "                                  'voltage_measured','current_measured', 'temperature_measured',\n",
    "                                  'current_load', 'voltage_load', 'time'])]\n",
    "\n",
    "\n",
    "\n",
    "# dataset, capacity = load_data('B0005')\n",
    "# capacity.to_csv('../datasets/BatteryCSV/B0005cap.csv', index=False)\n",
    "# pd.set_option('display.max_columns', 10)\n",
    "# print(capacity.head(5))\n",
    "# dataset.describe()\n",
    "\n"
   ],
   "metadata": {
    "collapsed": false,
    "ExecuteTime": {
     "end_time": "2024-03-03T20:07:32.296164500Z",
     "start_time": "2024-03-03T20:07:32.260823900Z"
    }
   }
  },
  {
   "cell_type": "markdown",
   "source": [
    "# 2 train"
   ],
   "metadata": {
    "collapsed": false
   }
  },
  {
   "cell_type": "markdown",
   "source": [
    "## 2.1 train_dataset process"
   ],
   "metadata": {
    "collapsed": false
   }
  },
  {
   "cell_type": "code",
   "execution_count": 14,
   "outputs": [],
   "source": [
    "def norm_data(battery_id):\n",
    "    dataset, capacity = load_data(battery_id)\n",
    "    C = capacity['capacity'][0]\n",
    "    soh = []\n",
    "    for i in range(len(capacity)):\n",
    "        soh.append([capacity['capacity'][i] / C])\n",
    "    soh = pd.DataFrame(data=soh, columns=['SOH'])\n",
    "\n",
    "    # features for training\n",
    "    attribs=['voltage_measured', 'current_measured',\n",
    "             'temperature_measured', 'current_load', 'voltage_load', 'time']\n",
    "    train_dataset = capacity[attribs]\n",
    "    sc = MinMaxScaler(feature_range=(0,1)) # = (num-min)/(max-min)\n",
    "    train_dataset = sc.fit_transform(train_dataset) # issue：not based on Rated\n",
    "    # print(train_dataset.shape)\n",
    "    # print(soh.shape)\n",
    "    attribs_scaled = pd.DataFrame(data=train_dataset,columns=attribs)\n",
    "    return  pd.concat([capacity['cycle'], attribs_scaled, soh], axis=1)\n",
    "\n",
    "def data_loader(battery_id, seq_len, features):\n",
    "    dataset = norm_data(battery_id)\n",
    "    input_size = len(features)\n",
    "    data_set_train=dataset[features].values\n",
    "    x_train=[]\n",
    "    label=[]\n",
    "    batch = len(data_set_train)\n",
    "    #take the last 10t to predict 10t+1\n",
    "    for i in range (seq_len,batch):\n",
    "        x_train.append(data_set_train[i-seq_len:i,:])\n",
    "        label.append(data_set_train[i,0])\n",
    "\n",
    "    x_train = np.array(x_train)\n",
    "    x_train = np.reshape(x_train,(batch-seq_len,seq_len,input_size)) #(batch,seq_len,input_size)\n",
    "    x_train = torch.tensor(x_train, dtype=torch.float32)\n",
    "    label = torch.tensor(label, dtype=torch.float32).view(-1, 1) # (batch,seq_len)取最后一个输出\n",
    "    return x_train, label\n",
    "\n",
    "# # storge\n",
    "# features = ['SOH','voltage_measured', 'current_measured',\n",
    "#             'temperature_measured', 'current_load', 'voltage_load', 'time']\n",
    "# train_data,train_data_real = data_loader('B0005', 10 , features)\n",
    "# train_data,train_data_real\n",
    "# dataset_scaled.to_csv('../datasets/BatteryCSV/B0005norm.csv', index=False)"
   ],
   "metadata": {
    "collapsed": false,
    "ExecuteTime": {
     "end_time": "2024-03-03T20:07:34.162003800Z",
     "start_time": "2024-03-03T20:07:34.140014400Z"
    }
   }
  },
  {
   "cell_type": "markdown",
   "source": [
    "## 2.2 training\n",
    "class torch.nn.LSTM(*args, **kwargs)\n",
    "参数有：\n",
    "    input_size：x的特征维度\n",
    "    hidden_size：隐藏层的特征维度\n",
    "    num_layers：lstm隐层的层数，默认为1\n",
    "    bias：False则bihbih=0和bhhbhh=0. 默认为True\n",
    "    batch_first：True则输入输出的数据格式为 (batch, seq_len, feature)\n",
    "    dropout：除最后一层，每一层的输出都进行dropout，默认为: 0\n",
    "    bidirectional：True则为双向lstm默认为False\n",
    "\n",
    "LSTM input(seq_len, batch, input_size)\n",
    "参数有：\n",
    "    batch：每次喂给网络的数据条数，在NLP中就是一次喂给网络多少个句子 !!!\n",
    "    seq_len：序列长度，在NLP中就是句子长度，一般都会用pad_sequence补齐长度!!!\n",
    "    input_size：特征维度，和前面定义网络结构的input_size一致。\n",
    "\n",
    "output,(ht, ct) = net(input)\n",
    "    output: 最后一个状态的隐藏层的神经元输出 size = （seq_Len, batch, num_directions * hidden_size)\n",
    "    ht：最后一个状态的隐含层的状态值\n",
    "    ct：最后一个状态的隐含层的遗忘门值\n",
    "\n"
   ],
   "metadata": {
    "collapsed": false
   }
  },
  {
   "cell_type": "code",
   "execution_count": 15,
   "outputs": [],
   "source": [
    "class LoadDataset(Dataset):\n",
    "    def __init__(self, root_dir, seq_len, features,  transform=None):\n",
    "        self.root_dir = root_dir\n",
    "        self.seq_len  = seq_len\n",
    "        self.features = features\n",
    "        self.transform = transform\n",
    "        self.file_list = sorted(os.listdir(root_dir))  # Assumes file names determine order\n",
    "\n",
    "    def __len__(self):\n",
    "        return len(self.file_list)\n",
    "\n",
    "    def __getitem__(self, idx):\n",
    "        # battery_id = self.file_list[idx]\n",
    "        # battery_path = os.path.join(self.root_dir, battery_id)\n",
    "        # dataset, label = data_loader(battery_path, self.seq_len, self.features)\n",
    "\n",
    "        battery_id = self.file_list[idx][:-4]\n",
    "        dataset, label = data_loader(battery_id, self.seq_len, self.features)\n",
    "        # if self.transform:\n",
    "        #     dataset = self.transform(dataset)\n",
    "        #     label = self.transform(label)\n",
    "\n",
    "        return dataset, label\n",
    "\n",
    "\n",
    "# # Example usage\n",
    "# train_directory = '../datasets/BatteryDataset/'\n",
    "# custom_dataset = LoadDataset(train_directory, seq_len=seq_len, features=features)\n",
    "#\n",
    "# # Create DataLoader\n",
    "# batch_size = 1\n",
    "# dataloader = DataLoader(custom_dataset, batch_size=batch_size)\n",
    "#\n",
    "# for train_data, train_data_real in dataloader:\n",
    "#     train_data_real=torch.squeeze(train_data_real)\n",
    "#     print(train_data_real.shape)\n"
   ],
   "metadata": {
    "collapsed": false,
    "ExecuteTime": {
     "end_time": "2024-03-03T20:07:41.102214Z",
     "start_time": "2024-03-03T20:07:41.076465900Z"
    }
   }
  },
  {
   "cell_type": "code",
   "execution_count": 16,
   "outputs": [],
   "source": [
    "# 构建神经网络模型\n",
    "class LSTMModel(nn.Module):\n",
    "    def __init__(self, input_size, hidden_size, num_layers, output_size):\n",
    "        super(LSTMModel, self).__init__()\n",
    "        self.lstm1 = nn.LSTM(input_size, hidden_size, num_layers, batch_first=True)\n",
    "        self.lstm2 = nn.LSTM(hidden_size, hidden_size, num_layers, batch_first=True)\n",
    "        self.lstm3 = nn.LSTM(hidden_size, hidden_size, num_layers, batch_first=True)\n",
    "        self.lstm4 = nn.LSTM(hidden_size, hidden_size, num_layers, batch_first=True)\n",
    "        self.fc = nn.Linear(hidden_size, output_size)\n",
    "\n",
    "    def forward(self, x):\n",
    "        out, _ = self.lstm1(x) # shape（seq_Len, batch, num_directions * hidden_size)\n",
    "        out, _ = self.lstm2(out)\n",
    "        out, _ = self.lstm3(out)\n",
    "        out, _ = self.lstm4(out)\n",
    "        out = self.fc(out[:, -1, :])  # 使用最后一个时间步的输出的输入（seq_Len, batch, num_directions * hidden_size)\n",
    "        # print(out.shape)\n",
    "        return out\n"
   ],
   "metadata": {
    "collapsed": false,
    "ExecuteTime": {
     "end_time": "2024-03-03T20:07:41.970474800Z",
     "start_time": "2024-03-03T20:07:41.928592700Z"
    }
   }
  },
  {
   "cell_type": "code",
   "execution_count": 20,
   "outputs": [
    {
     "name": "stdout",
     "output_type": "stream",
     "text": [
      "Training on GPU.\n",
      "-------epoch  1 -------\n",
      "train set Loss: 0.41095420718193054\n",
      "-------epoch  2 -------\n",
      "train set Loss: 0.3923172354698181\n",
      "-------epoch  3 -------\n",
      "train set Loss: 0.07726490497589111\n",
      "-------epoch  4 -------\n",
      "train set Loss: 0.35064059495925903\n",
      "-------epoch  5 -------\n",
      "train set Loss: 0.14460021257400513\n",
      "-------epoch  6 -------\n",
      "train set Loss: 0.017245018854737282\n",
      "-------epoch  7 -------\n",
      "train set Loss: 0.02872568555176258\n",
      "-------epoch  8 -------\n",
      "train set Loss: 0.014715216122567654\n",
      "-------epoch  9 -------\n",
      "train set Loss: 0.29900527000427246\n",
      "-------epoch  10 -------\n",
      "train set Loss: 0.16834674775600433\n",
      "-------epoch  11 -------\n",
      "train set Loss: 0.24784594774246216\n",
      "-------epoch  12 -------\n",
      "train set Loss: 0.20462217926979065\n",
      "-------epoch  13 -------\n",
      "train set Loss: 0.10901888459920883\n",
      "-------epoch  14 -------\n",
      "train set Loss: 0.02387833595275879\n",
      "-------epoch  15 -------\n",
      "train set Loss: 0.008039604872465134\n",
      "-------epoch  16 -------\n",
      "train set Loss: 0.012690872885286808\n",
      "-------epoch  17 -------\n",
      "train set Loss: 0.018212199211120605\n",
      "-------epoch  18 -------\n",
      "train set Loss: 0.020509108901023865\n",
      "-------epoch  19 -------\n",
      "train set Loss: 0.08886653929948807\n",
      "-------epoch  20 -------\n",
      "train set Loss: 0.19935764372348785\n",
      "-------epoch  21 -------\n",
      "train set Loss: 0.15643709897994995\n",
      "-------epoch  22 -------\n",
      "train set Loss: 0.08992297202348709\n",
      "-------epoch  23 -------\n",
      "train set Loss: 0.014117816463112831\n",
      "-------epoch  24 -------\n",
      "train set Loss: 0.01615835167467594\n",
      "-------epoch  25 -------\n",
      "train set Loss: 0.016680680215358734\n",
      "-------epoch  26 -------\n",
      "train set Loss: 0.026537802070379257\n",
      "-------epoch  27 -------\n",
      "train set Loss: 0.020385676994919777\n",
      "-------epoch  28 -------\n",
      "train set Loss: 0.02186024747788906\n",
      "-------epoch  29 -------\n",
      "train set Loss: 0.055534251034259796\n",
      "-------epoch  30 -------\n",
      "train set Loss: 0.026928599923849106\n",
      "-------epoch  31 -------\n",
      "train set Loss: 0.07630001753568649\n",
      "-------epoch  32 -------\n",
      "train set Loss: 0.043304190039634705\n",
      "-------epoch  33 -------\n",
      "train set Loss: 0.10442860424518585\n",
      "-------epoch  34 -------\n",
      "train set Loss: 0.06712761521339417\n",
      "-------epoch  35 -------\n",
      "train set Loss: 0.01682371087372303\n",
      "-------epoch  36 -------\n",
      "train set Loss: 0.039262719452381134\n",
      "-------epoch  37 -------\n",
      "train set Loss: 0.2191094160079956\n",
      "-------epoch  38 -------\n",
      "train set Loss: 0.3609578311443329\n",
      "-------epoch  39 -------\n",
      "train set Loss: 0.017276551574468613\n",
      "-------epoch  40 -------\n",
      "train set Loss: 0.9485275745391846\n",
      "-------epoch  41 -------\n",
      "train set Loss: 0.25707873702049255\n",
      "-------epoch  42 -------\n",
      "train set Loss: 0.18795697391033173\n",
      "-------epoch  43 -------\n",
      "train set Loss: 0.18246982991695404\n",
      "-------epoch  44 -------\n",
      "train set Loss: 0.17281246185302734\n",
      "-------epoch  45 -------\n",
      "train set Loss: 0.1639455109834671\n",
      "-------epoch  46 -------\n",
      "train set Loss: 0.15588758885860443\n",
      "-------epoch  47 -------\n",
      "train set Loss: 0.14573904871940613\n",
      "-------epoch  48 -------\n",
      "train set Loss: 0.13312509655952454\n",
      "-------epoch  49 -------\n",
      "train set Loss: 0.11695672571659088\n",
      "-------epoch  50 -------\n",
      "train set Loss: 0.0964449942111969\n",
      "-------epoch  51 -------\n",
      "train set Loss: 0.07390505820512772\n",
      "-------epoch  52 -------\n",
      "train set Loss: 0.050894781947135925\n",
      "-------epoch  53 -------\n",
      "train set Loss: 0.014528184197843075\n",
      "-------epoch  54 -------\n",
      "train set Loss: 0.004545917734503746\n",
      "-------epoch  55 -------\n",
      "train set Loss: 0.0033052130602300167\n",
      "-------epoch  56 -------\n",
      "train set Loss: 0.0033457118552178144\n",
      "-------epoch  57 -------\n",
      "train set Loss: 0.004781411960721016\n",
      "-------epoch  58 -------\n",
      "train set Loss: 0.004523539450019598\n",
      "-------epoch  59 -------\n",
      "train set Loss: 0.006282210350036621\n",
      "-------epoch  60 -------\n",
      "train set Loss: 0.0063865287229418755\n",
      "-------epoch  61 -------\n",
      "train set Loss: 0.008105164393782616\n",
      "-------epoch  62 -------\n",
      "train set Loss: 0.00823570229113102\n",
      "-------epoch  63 -------\n",
      "train set Loss: 0.009353472851216793\n",
      "-------epoch  64 -------\n",
      "train set Loss: 0.009473654441535473\n",
      "-------epoch  65 -------\n",
      "train set Loss: 0.009750742465257645\n",
      "-------epoch  66 -------\n",
      "train set Loss: 0.01002021599560976\n",
      "-------epoch  67 -------\n",
      "train set Loss: 0.00942855142056942\n",
      "-------epoch  68 -------\n",
      "train set Loss: 0.009960564784705639\n",
      "-------epoch  69 -------\n",
      "train set Loss: 0.008679434657096863\n",
      "-------epoch  70 -------\n",
      "train set Loss: 0.009369686245918274\n",
      "-------epoch  71 -------\n",
      "train set Loss: 0.007825445383787155\n",
      "-------epoch  72 -------\n",
      "train set Loss: 0.008344241417944431\n",
      "-------epoch  73 -------\n",
      "train set Loss: 0.007072181906551123\n",
      "-------epoch  74 -------\n",
      "train set Loss: 0.007112857885658741\n",
      "-------epoch  75 -------\n",
      "train set Loss: 0.0063947164453566074\n",
      "-------epoch  76 -------\n",
      "train set Loss: 0.005996963009238243\n",
      "-------epoch  77 -------\n",
      "train set Loss: 0.005675324704498053\n",
      "-------epoch  78 -------\n",
      "train set Loss: 0.005189807154238224\n",
      "-------epoch  79 -------\n",
      "train set Loss: 0.004967986606061459\n",
      "-------epoch  80 -------\n",
      "train set Loss: 0.00463726045563817\n",
      "-------epoch  81 -------\n",
      "train set Loss: 0.004425275605171919\n",
      "-------epoch  82 -------\n",
      "train set Loss: 0.004238699097186327\n",
      "-------epoch  83 -------\n",
      "train set Loss: 0.004094812553375959\n",
      "-------epoch  84 -------\n",
      "train set Loss: 0.003997666295617819\n",
      "-------epoch  85 -------\n",
      "train set Loss: 0.003942401614040136\n",
      "-------epoch  86 -------\n",
      "train set Loss: 0.003926258999854326\n",
      "-------epoch  87 -------\n",
      "train set Loss: 0.0039519877173006535\n",
      "-------epoch  88 -------\n",
      "train set Loss: 0.004017322789877653\n",
      "-------epoch  89 -------\n",
      "train set Loss: 0.004124650731682777\n",
      "-------epoch  90 -------\n",
      "train set Loss: 0.004275537561625242\n",
      "-------epoch  91 -------\n",
      "train set Loss: 0.004474401939660311\n",
      "-------epoch  92 -------\n",
      "train set Loss: 0.004726562183350325\n",
      "-------epoch  93 -------\n",
      "train set Loss: 0.005038703326135874\n",
      "-------epoch  94 -------\n",
      "train set Loss: 0.005414940882474184\n",
      "-------epoch  95 -------\n",
      "train set Loss: 0.005848418455570936\n",
      "-------epoch  96 -------\n",
      "train set Loss: 0.006319568492472172\n",
      "-------epoch  97 -------\n",
      "train set Loss: 0.0068198516964912415\n",
      "-------epoch  98 -------\n",
      "train set Loss: 0.007353212218731642\n",
      "-------epoch  99 -------\n",
      "train set Loss: 0.007845279760658741\n",
      "-------epoch  100 -------\n",
      "train set Loss: 0.008257003501057625\n"
     ]
    }
   ],
   "source": [
    "# train\n",
    "if __name__ == \"__main__\":\n",
    "    # checking if GPU is available\n",
    "    device = torch.device(\"cpu\")\n",
    "    if (torch.cuda.is_available()):\n",
    "        device = torch.device(\"cuda:0\")\n",
    "        print('Training on GPU.')\n",
    "    else:\n",
    "        print('No GPU available, training on CPU.')\n",
    "\n",
    "    # 构建模型\n",
    "    model = LSTMModel(input_size=input_size,\n",
    "                      hidden_size=hidden_size,\n",
    "                      output_size=output_size,\n",
    "                      num_layers = num_layers)\n",
    "\n",
    "    # dataset\n",
    "    # train_data, train_data_real = data_loader('B0005',seq_len,features)\n",
    "    train_directory = '../datasets/BatteryDataset/'\n",
    "    train_dataset = LoadDataset(train_directory, seq_len=seq_len, features=features)\n",
    "    train_dataloader = DataLoader(train_dataset, batch_size=batch_size)\n",
    "    # #vailidation\n",
    "    # validation_data, validation_data_real = data_loader('B0006',seq_len,features)\n",
    "\n",
    "    # 定义损失函数和优化器\n",
    "    criterion = nn.MSELoss()\n",
    "    # criterion = nn.CrossEntropyLoss()\n",
    "    optimizer = optim.Adam(model.parameters(), lr=learning_rate)\n",
    "\n",
    "    # 储存路径\n",
    "    work_dir = './LSTM'\n",
    "    # 添加tensorboard\n",
    "    writer = SummaryWriter(\"{}/logs\".format(work_dir))\n",
    "\n",
    "    # device = torch.device(\"cuda:0\")\n",
    "    # model = model.to(device)\n",
    "    # criterion = criterion.to(device)\n",
    "\n",
    "    # 训练模型\n",
    "    for epoch in range(epoch):\n",
    "        print(\"-------epoch  {} -------\".format(epoch+1))\n",
    "        # 训练步骤\n",
    "        model.train()\n",
    "        for train_data, train_data_real in train_dataloader:\n",
    "            train_data = torch.squeeze(train_data)\n",
    "            train_data_real = torch.squeeze(train_data_real)\n",
    "\n",
    "            output = model(train_data)\n",
    "            output = torch.squeeze(output)\n",
    "            loss = criterion(output, train_data_real)\n",
    "            optimizer.zero_grad()\n",
    "            loss.backward()\n",
    "            optimizer.step()\n",
    "        print(\"train set Loss: {}\".format(loss.item()))\n",
    "\n",
    "        # 测试步骤\n",
    "        model.eval()\n",
    "        total_test_loss = 0\n",
    "        total_accuracy = 0\n",
    "        # with torch.no_grad():#用于在推断或验证阶段，当不需要计算梯度时，以提高效率和减少内存占用\n",
    "        #     test_outputs = model(validation_data)\n",
    "        #     loss = criterion(test_outputs, validation_data_real)\n",
    "        #     # total_test_loss = total_test_loss + loss.item()\n",
    "        #     # accuracy = (outputs.argmax(1) == targets).sum()\n",
    "        #     # total_accuracy = total_accuracy + accuracy\n",
    "        # print(\"test set Loss: {}\".format(loss.item()))\n",
    "    # Save the trained model\n",
    "    torch.save(model.state_dict(), save_path)"
   ],
   "metadata": {
    "collapsed": false,
    "ExecuteTime": {
     "end_time": "2024-03-03T20:43:20.175198400Z",
     "start_time": "2024-03-03T20:09:04.720150800Z"
    }
   }
  },
  {
   "cell_type": "markdown",
   "source": [
    "# 3.eval and plot comparation"
   ],
   "metadata": {
    "collapsed": false
   }
  },
  {
   "cell_type": "code",
   "execution_count": 22,
   "outputs": [
    {
     "name": "stderr",
     "output_type": "stream",
     "text": [
      "C:\\Users\\CC\\AppData\\Local\\Temp\\ipykernel_16340\\1595987536.py:3: UserWarning: To copy construct from a tensor, it is recommended to use sourceTensor.clone().detach() or sourceTensor.clone().detach().requires_grad_(True), rather than torch.tensor(sourceTensor).\n",
      "  input_data = torch.tensor(test_data, dtype=torch.float32)\n"
     ]
    },
    {
     "name": "stdout",
     "output_type": "stream",
     "text": [
      "(148,)\n"
     ]
    },
    {
     "data": {
      "text/plain": "Text(0.5, 1.0, 'Discharge B0006')"
     },
     "execution_count": 22,
     "metadata": {},
     "output_type": "execute_result"
    },
    {
     "data": {
      "text/plain": "<Figure size 800x500 with 1 Axes>",
      "image/png": "[encoded data removed]"
     },
     "metadata": {},
     "output_type": "display_data"
    }
   ],
   "source": [
    "test_battery_id = 'B0006'\n",
    "test_data,test_data_real = data_loader(test_battery_id,seq_len,features)\n",
    "input_data = torch.tensor(test_data, dtype=torch.float32)\n",
    "# load\n",
    "lstm = LSTMModel(input_size=input_size, hidden_size=hidden_size, output_size=output_size, num_layers=num_layers)\n",
    "lstm.load_state_dict(torch.load(save_path))\n",
    "lstm.eval()\n",
    "output = lstm(input_data)\n",
    "predicted_data = output.detach().numpy().reshape(-1)\n",
    "print(predicted_data.shape)\n",
    "\n",
    "\n",
    "# draw\n",
    "origin_data = norm_data(test_battery_id) # dictionary\n",
    "sns.set_style(\"white\")\n",
    "plt.figure(figsize=(8, 5))\n",
    "#Draw\n",
    "# plt.plot([i for i in range(len(origin_data['SOH'][seq_len:]))], origin_data['SOH'][seq_len:], label='SOH')\n",
    "# plt.plot([i for i in range(len(test_data))], predicted_data, label='Predicted SOH')\n",
    "plt.plot([i for i in range(len(origin_data['SOH']))], origin_data['SOH'], label='SOH')\n",
    "predicted_data = np.concatenate((origin_data['SOH'][0:seq_len],predicted_data), axis = 0)\n",
    "plt.plot([i for i in range(len(origin_data['SOH']))], predicted_data, label='Predicted SOH')\n",
    "plt.plot([0.,len(origin_data['SOH'])], [0.70, 0.70], label='Threshold')\n",
    "\n",
    "# make x-axis ticks legible\n",
    "adf = plt.gca().get_xaxis().get_major_formatter()\n",
    "plt.xlabel('cycle')\n",
    "plt.ylabel('SOH')\n",
    "plt.title('Discharge {}'.format(test_battery_id))"
   ],
   "metadata": {
    "collapsed": false,
    "ExecuteTime": {
     "end_time": "2024-03-03T20:44:11.172257Z",
     "start_time": "2024-03-03T20:44:07.816212500Z"
    }
   }
  },
  {
   "cell_type": "markdown",
   "source": [],
   "metadata": {
    "collapsed": false
   }
  }
 ],
 "metadata": {
  "kernelspec": {
   "display_name": "Python 3 (ipykernel)",
   "language": "python",
   "name": "python3"
  },
  "language_info": {
   "codemirror_mode": {
    "name": "ipython",
    "version": 3
   },
   "file_extension": ".py",
   "mimetype": "text/x-python",
   "name": "python",
   "nbconvert_exporter": "python",
   "pygments_lexer": "ipython3",
   "version": "3.9.12"
  }
 },
 "nbformat": 4,
 "nbformat_minor": 5
}
