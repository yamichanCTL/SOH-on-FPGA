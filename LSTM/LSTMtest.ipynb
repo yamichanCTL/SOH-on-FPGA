{
 "cells": [
  {
   "cell_type": "code",
   "execution_count": 1,
   "id": "bbf55625",
   "metadata": {
    "ExecuteTime": {
     "end_time": "2024-03-09T15:15:51.289195Z",
     "start_time": "2024-03-09T15:15:26.309365Z"
    }
   },
   "outputs": [
    {
     "name": "stdout",
     "output_type": "stream",
     "text": [
      "WARNING:tensorflow:From E:\\Anaconda3.8\\envs\\battery\\lib\\site-packages\\keras\\src\\losses.py:2976: The name tf.losses.sparse_softmax_cross_entropy is deprecated. Please use tf.compat.v1.losses.sparse_softmax_cross_entropy instead.\n",
      "\n"
     ]
    }
   ],
   "source": [
    "import datetime\n",
    "import numpy as np\n",
    "import pandas as pd\n",
    "import os\n",
    "from scipy.io import loadmat\n",
    "from sklearn.preprocessing import MinMaxScaler\n",
    "import matplotlib.pyplot as plt\n",
    "import seaborn as sns\n",
    "\n",
    "import torch\n",
    "import torch.nn as nn\n",
    "import torch.optim as optim\n",
    "from torch.utils.tensorboard import SummaryWriter\n",
    "from torch.utils.data import Dataset,DataLoader\n",
    "from torch.nn.utils.rnn import pack_padded_sequence, pad_packed_sequence"
   ]
  },
  {
   "cell_type": "markdown",
   "source": [
    "# Hyperparameters"
   ],
   "metadata": {
    "collapsed": false
   }
  },
  {
   "cell_type": "code",
   "execution_count": 8,
   "outputs": [],
   "source": [
    "# hyper\n",
    "features = ['SOH','voltage_measured', 'current_measured',\n",
    "            'temperature_measured', 'time']\n",
    "batch_size = 1  # 1*len(every_file)\n",
    "input_size = len(features)\n",
    "hidden_size = 128\n",
    "num_layers = 1\n",
    "output_size = 1\n",
    "seq_len = 20   # 预测序列长度\n",
    "epoch = 500   # 1*len(train_directory)\n",
    "learning_rate = 0.001  # upgrade to adaptive lr?\n",
    "\n",
    "save_path = 'seq{}_.pth'.format(str(seq_len))  # model path\n",
    "train_directory = '../datasets/train/'\n",
    "verify_directory = '../datasets/verify/'\n",
    "test_directory = '../datasets/alldataset/'"
   ],
   "metadata": {
    "collapsed": false,
    "ExecuteTime": {
     "end_time": "2024-03-09T16:02:58.989619Z",
     "start_time": "2024-03-09T16:02:58.960619900Z"
    }
   }
  },
  {
   "cell_type": "markdown",
   "source": [
    "# 1.Data preprocess"
   ],
   "metadata": {
    "collapsed": false
   }
  },
  {
   "cell_type": "markdown",
   "source": [
    "## 1.1 Load Data from mat"
   ],
   "metadata": {
    "collapsed": false
   }
  },
  {
   "cell_type": "code",
   "execution_count": 4,
   "outputs": [],
   "source": [
    "def load_data(battery_path):\n",
    "    # mat = loadmat('../datasets/BatteryDataset/' + battery_id + '.mat') # MAT PATH ESSENTIAL origin\n",
    "    battery_id = battery_path[-9:-4]\n",
    "    mat = loadmat(battery_path) # MAT PATH ESSENTIAL\n",
    "\n",
    "    counter = 0\n",
    "    dataset = []\n",
    "    capacity_data = []\n",
    "    # print('Total data in dataset: ', len(mat[battery][0, 0]['cycle'][0])) #total cycle\n",
    "\n",
    "    for i in range(len(mat[battery_id][0, 0]['cycle'][0])):\n",
    "        row = mat[battery_id][0, 0]['cycle'][0, i]\n",
    "        if row['type'][0] == 'discharge':\n",
    "            ambient_temperature = row['ambient_temperature'][0][0]\n",
    "            date_time = datetime.datetime(int(row['time'][0][0]),\n",
    "                                          int(row['time'][0][1]),\n",
    "                                          int(row['time'][0][2]),\n",
    "                                          int(row['time'][0][3]),\n",
    "                                          int(row['time'][0][4])) + datetime.timedelta(seconds=int(row['time'][0][5]))\n",
    "            data = row['data']\n",
    "            capacity = data[0][0]['Capacity'][0][0]\n",
    "            for j in range(len(data[0][0]['Voltage_measured'][0])):\n",
    "                voltage_measured = data[0][0]['Voltage_measured'][0][j]\n",
    "                current_measured = data[0][0]['Current_measured'][0][j]\n",
    "                temperature_measured = data[0][0]['Temperature_measured'][0][j]\n",
    "                current_load = data[0][0]['Current_load'][0][j]\n",
    "                voltage_load = data[0][0]['Voltage_load'][0][j]\n",
    "                time = data[0][0]['Time'][0][j]\n",
    "                dataset.append([counter + 1, ambient_temperature, date_time, capacity,\n",
    "                                voltage_measured, current_measured,temperature_measured,\n",
    "                                current_load, voltage_load, time])\n",
    "\n",
    "            capacity_data.append([counter + 1, ambient_temperature, date_time, capacity,\n",
    "                                  voltage_measured, current_measured,temperature_measured,\n",
    "                                  current_load, voltage_load, time])\n",
    "            counter = counter + 1\n",
    "    # print(dataset[0])\n",
    "\n",
    "    return [pd.DataFrame(data=dataset,\n",
    "                         columns=['cycle', 'ambient_temperature', 'datetime','capacity',\n",
    "                                  'voltage_measured','current_measured', 'temperature_measured',\n",
    "                                  'current_load', 'voltage_load', 'time']),\n",
    "            pd.DataFrame(data=capacity_data,\n",
    "                         columns=['cycle', 'ambient_temperature', 'datetime','capacity',\n",
    "                                  'voltage_measured','current_measured', 'temperature_measured',\n",
    "                                  'current_load', 'voltage_load', 'time'])]\n",
    "\n",
    "\n",
    "# test_battery_id0 = 'B0050'\n",
    "# test_battery_id1 = 'B0052'\n",
    "# test_battery_id2 = 'B0055'\n",
    "# test_battery_id3 = 'B0056'\n",
    "# dataset0, capacity0 = load_data(test_directory+ test_battery_id0 + '.mat')\n",
    "# dataset1, capacity1 = load_data(test_directory+ test_battery_id1 + '.mat')\n",
    "# dataset2, capacity2 = load_data(test_directory+ test_battery_id2 + '.mat')\n",
    "# dataset3, capacity3 = load_data(test_directory+ test_battery_id3 + '.mat')\n",
    "# # capacity.to_csv('../datasets/BatteryCSV/{}.csv'.format(test_battery_id), index=False)\n",
    "# # pd.set_option('display.max_columns', 10)\n",
    "# # print(capacity.head(5))\n",
    "# # dataset.describe()\n",
    "#\n",
    "# # 创建一个包含两个子图的 Figure 对象\n",
    "# fig, axs = plt.subplots(2, 2, figsize=(8, 6))\n",
    "# sns.set_style(\"darkgrid\") # 黑色的背景，带有白色网格线\n",
    "# # 在第一个子图中绘制 Sin(x)\n",
    "# axs[0, 0].plot(capacity0['cycle'], capacity0['capacity'])\n",
    "# axs[0, 0].set_title('Discharge {}'.format(test_battery_id0))\n",
    "# axs[0, 0].set_xlabel('cycle')\n",
    "# axs[0, 0].set_xlabel('Capacity')\n",
    "# # 在第二个子图中绘制 Cos(x)\n",
    "# axs[0, 1].plot(capacity1['cycle'], capacity1['capacity'])\n",
    "# axs[0, 1].set_title('Discharge {}'.format(test_battery_id1))\n",
    "# axs[0, 1].set_xlabel('cycle')\n",
    "# axs[0, 1].set_xlabel('Capacity')\n",
    "#\n",
    "# # 在第三个子图中绘制 Cos(x)\n",
    "# axs[1, 0].plot(capacity2['cycle'], capacity2['capacity'])\n",
    "# axs[1, 0].set_title('Discharge {}'.format(test_battery_id2))\n",
    "# axs[1, 0].set_xlabel('cycle')\n",
    "# axs[1, 0].set_xlabel('Capacity')\n",
    "#\n",
    "# # 在第四个子图中绘制 Cos(x)\n",
    "# axs[1, 1].plot(capacity3['cycle'], capacity3['capacity'])\n",
    "# axs[1, 1].set_title('Discharge {}'.format(test_battery_id3))\n",
    "# axs[1, 1].set_xlabel('cycle')\n",
    "# axs[1, 1].set_xlabel('Capacity')\n",
    "#\n",
    "# # 调整布局\n",
    "# plt.tight_layout()\n",
    "# # 显示图像\n",
    "# plt.show()\n"
   ],
   "metadata": {
    "collapsed": false,
    "ExecuteTime": {
     "end_time": "2024-03-09T15:57:35.065231Z",
     "start_time": "2024-03-09T15:57:35.017912Z"
    }
   }
  },
  {
   "cell_type": "markdown",
   "source": [
    "## 1.2 normlize data"
   ],
   "metadata": {
    "collapsed": false
   }
  },
  {
   "cell_type": "code",
   "execution_count": 5,
   "outputs": [],
   "source": [
    "def norm_data(battery_id):\n",
    "    dataset, capacity = load_data(battery_id)\n",
    "    if capacity['capacity'][0] > capacity['capacity'][1] :\n",
    "        C = capacity['capacity'][0]\n",
    "    else :\n",
    "        C = capacity['capacity'][1]\n",
    "    soh = []\n",
    "    for i in range(len(capacity)):\n",
    "        soh.append([capacity['capacity'][i] / C])\n",
    "    soh = pd.DataFrame(data=soh, columns=['SOH'])\n",
    "\n",
    "    # features for training\n",
    "    attribs=['capacity', 'voltage_measured', 'current_measured',\n",
    "             'temperature_measured', 'current_load', 'voltage_load', 'time']\n",
    "    train_dataset = capacity[attribs]\n",
    "    sc = MinMaxScaler(feature_range=(0,1)) # = (num-min)/(max-min)\n",
    "    train_dataset = sc.fit_transform(train_dataset) # issue：not based on Rated\n",
    "    # print(train_dataset.shape)\n",
    "    # print(soh.shape)\n",
    "    attribs_scaled = pd.DataFrame(data=train_dataset,columns=attribs)\n",
    "    return  pd.concat([capacity['cycle'], attribs_scaled, soh], axis=1)\n",
    "\n",
    "def data_loader(battery_id, seq_len, features):\n",
    "    dataset = norm_data(battery_id)\n",
    "    input_size = len(features)\n",
    "    data_set_train=dataset[features].values\n",
    "    x_train=[]\n",
    "    label=[]\n",
    "    batch = len(data_set_train)\n",
    "    #take the last 10t to predict 10t+1\n",
    "    for i in range (seq_len,batch):\n",
    "        x_train.append(data_set_train[i-seq_len:i,:])\n",
    "        label.append(data_set_train[i,0])\n",
    "\n",
    "    x_train = np.array(x_train)\n",
    "    x_train = np.reshape(x_train,(batch-seq_len,seq_len,input_size)) #(batch,seq_len,input_size)\n",
    "    x_train = torch.tensor(x_train, dtype=torch.float32)\n",
    "    label = torch.tensor(label, dtype=torch.float32).view(-1, 1) # (batch,seq_len)取最后一个输出\n",
    "    return x_train, label\n",
    "\n",
    "# # storge\n",
    "# features = ['SOH','voltage_measured', 'current_measured',\n",
    "#             'temperature_measured', 'current_load', 'voltage_load', 'time']\n",
    "# train_data,train_data_real = data_loader('B0005', 10 , features)\n",
    "# train_data,train_data_real\n",
    "# dataset_scaled.to_csv('../datasets/BatteryCSV/B0005norm.csv', index=False)"
   ],
   "metadata": {
    "collapsed": false,
    "ExecuteTime": {
     "end_time": "2024-03-09T15:57:35.877941300Z",
     "start_time": "2024-03-09T15:57:35.845940900Z"
    }
   }
  },
  {
   "cell_type": "markdown",
   "source": [
    "## 1.3 dataloader"
   ],
   "metadata": {
    "collapsed": false
   }
  },
  {
   "cell_type": "code",
   "execution_count": 13,
   "outputs": [
    {
     "name": "stdout",
     "output_type": "stream",
     "text": [
      "torch.Size([1, 148, 20, 5])\n",
      "torch.Size([1, 148, 20, 5])\n",
      "torch.Size([1, 148, 20, 5])\n",
      "torch.Size([1, 112, 20, 5])\n",
      "torch.Size([1, 8, 20, 5])\n",
      "torch.Size([1, 8, 20, 5])\n",
      "torch.Size([1, 8, 20, 5])\n",
      "torch.Size([1, 8, 20, 5])\n",
      "torch.Size([1, 20, 20, 5])\n",
      "torch.Size([1, 20, 20, 5])\n",
      "torch.Size([1, 20, 20, 5])\n",
      "torch.Size([1, 20, 20, 5])\n",
      "torch.Size([1, 177, 20, 5])\n",
      "torch.Size([1, 177, 20, 5])\n",
      "torch.Size([1, 177, 20, 5])\n",
      "torch.Size([1, 92, 20, 5])\n",
      "torch.Size([1, 92, 20, 5])\n",
      "torch.Size([1, 92, 20, 5])\n",
      "torch.Size([1, 52, 20, 5])\n",
      "torch.Size([1, 52, 20, 5])\n",
      "torch.Size([1, 52, 20, 5])\n",
      "torch.Size([1, 52, 20, 5])\n",
      "torch.Size([1, 5, 20, 5])\n",
      "torch.Size([1, 5, 20, 5])\n",
      "torch.Size([1, 36, 20, 5])\n",
      "torch.Size([1, 83, 20, 5])\n",
      "torch.Size([1, 82, 20, 5])\n",
      "torch.Size([1, 82, 20, 5])\n"
     ]
    }
   ],
   "source": [
    "class LoadDataset(Dataset):\n",
    "    def __init__(self, root_dir, seq_len, features,  transform=None):\n",
    "        self.root_dir = root_dir\n",
    "        self.seq_len  = seq_len\n",
    "        self.features = features\n",
    "        self.transform = transform\n",
    "        self.file_list = sorted(os.listdir(root_dir))  # Assumes file names determine order\n",
    "\n",
    "    def __len__(self):\n",
    "        return len(self.file_list)\n",
    "\n",
    "    def __getitem__(self, idx):\n",
    "        battery_id = self.file_list[idx]\n",
    "        battery_path = os.path.join(self.root_dir, battery_id)\n",
    "        dataset, label = data_loader(battery_path, self.seq_len, self.features)\n",
    "        # if self.transform:\n",
    "        #     dataset = self.transform(dataset)\n",
    "        #     label = self.transform(label)\n",
    "\n",
    "        return dataset, label\n",
    "\n",
    "\n",
    "# # Example usage\n",
    "# custom_dataset = LoadDataset(train_directory, seq_len=seq_len, features=features)\n",
    "#\n",
    "# # Create DataLoader\n",
    "# batch_size = 1\n",
    "# dataloader = DataLoader(custom_dataset, batch_size=batch_size)\n",
    "#\n",
    "# for train_data, train_data_real in dataloader:\n",
    "#     # train_data=torch.squeeze(train_data)\n",
    "#     print(train_data.shape)"
   ],
   "metadata": {
    "collapsed": false,
    "ExecuteTime": {
     "end_time": "2024-03-09T16:35:01.979509200Z",
     "start_time": "2024-03-09T16:34:44.817130Z"
    }
   }
  },
  {
   "cell_type": "markdown",
   "source": [
    "## 2. training\n",
    "class torch.nn.LSTM(*args, **kwargs)\n",
    "参数有：\n",
    "    input_size：x的特征维度\n",
    "    hidden_size：隐藏层的特征维度\n",
    "    num_layers：lstm隐层的层数，默认为1\n",
    "    bias：False则bihbih=0和bhhbhh=0. 默认为True\n",
    "    batch_first：True则输入输出的数据格式为 (batch, seq_len, feature)\n",
    "    dropout：除最后一层，每一层的输出都进行dropout，默认为: 0\n",
    "    bidirectional：True则为双向lstm默认为False\n",
    "\n",
    "LSTM input(seq_len, batch, input_size)\n",
    "参数有：\n",
    "    batch：每次喂给网络的数据条数，在NLP中就是一次喂给网络多少个句子 !!!\n",
    "    seq_len：序列长度，在NLP中就是句子长度，一般都会用pad_sequence补齐长度!!!\n",
    "    input_size：特征维度，和前面定义网络结构的input_size一致。\n",
    "\n",
    "output,(ht, ct) = net(input)\n",
    "    output: 最后一个状态的隐藏层的神经元输出 size = （seq_Len, batch, num_directions * hidden_size)\n",
    "    ht：最后一个状态的隐含层的状态值\n",
    "    ct：最后一个状态的隐含层的遗忘门值\n",
    "\n"
   ],
   "metadata": {
    "collapsed": false
   }
  },
  {
   "cell_type": "code",
   "execution_count": 10,
   "outputs": [],
   "source": [
    "# net structure\n",
    "class LSTMModel(nn.Module):\n",
    "    def __init__(self, input_size, hidden_size, num_layers, output_size):\n",
    "        super(LSTMModel, self).__init__()\n",
    "        self.lstm1 = nn.LSTM(input_size, hidden_size, num_layers, batch_first=True)\n",
    "        self.lstm2 = nn.LSTM(hidden_size, hidden_size, num_layers, batch_first=True)\n",
    "        self.lstm3 = nn.LSTM(hidden_size, hidden_size, num_layers, batch_first=True)\n",
    "        self.lstm4 = nn.LSTM(hidden_size, hidden_size, num_layers, batch_first=True)\n",
    "        self.fc = nn.Linear(hidden_size, output_size)\n",
    "\n",
    "    def forward(self, x):\n",
    "\n",
    "        out, _ = self.lstm1(x) # shape（seq_Len, batch, num_directions * hidden_size)\n",
    "        out, _ = self.lstm2(out)\n",
    "        out, _ = self.lstm3(out)\n",
    "        out, _ = self.lstm4(out)\n",
    "\n",
    "        out = self.fc(out[:, -1, :])  # 使用最后一个时间步的输出的输入（seq_Len, batch, num_directions * hidden_size)\n",
    "        # print(out.shape)\n",
    "        return out\n"
   ],
   "metadata": {
    "collapsed": false,
    "ExecuteTime": {
     "end_time": "2024-03-09T16:03:17.816653700Z",
     "start_time": "2024-03-09T16:03:17.801045900Z"
    }
   }
  },
  {
   "cell_type": "code",
   "execution_count": 11,
   "outputs": [
    {
     "name": "stdout",
     "output_type": "stream",
     "text": [
      "Training on GPU.\n",
      "-------epoch  1 -------\n"
     ]
    },
    {
     "name": "stderr",
     "output_type": "stream",
     "text": [
      "\n",
      "KeyboardInterrupt\n",
      "\n"
     ]
    }
   ],
   "source": [
    "# train\n",
    "if __name__ == \"__main__\":\n",
    "    # checking if GPU is available\n",
    "    device = torch.device(\"cpu\")\n",
    "    if (torch.cuda.is_available()):\n",
    "        device = torch.device(\"cuda:0\")\n",
    "        print('Training on GPU.')\n",
    "    else:\n",
    "        print('No GPU available, training on CPU.')\n",
    "\n",
    "    # 构建模型\n",
    "    model = LSTMModel(input_size=input_size,\n",
    "                      hidden_size=hidden_size,\n",
    "                      output_size=output_size,\n",
    "                      num_layers = num_layers)\n",
    "    model = model.to(device) # lstm doesnt work on gpu?\n",
    "    # dataset\n",
    "    train_dataset = LoadDataset(train_directory, seq_len=seq_len, features=features)\n",
    "    train_dataloader = DataLoader(train_dataset, batch_size=batch_size)\n",
    "\n",
    "    #verify\n",
    "    verify_dataset = LoadDataset(verify_directory, seq_len=seq_len, features=features)\n",
    "    verify_dataloader = DataLoader(verify_dataset, batch_size=batch_size)\n",
    "\n",
    "    # 定义损失函数和优化器\n",
    "    criterion = nn.MSELoss()\n",
    "    # criterion = nn.CrossEntropyLoss()\n",
    "    optimizer = optim.Adam(model.parameters(), lr=learning_rate)\n",
    "\n",
    "    # 储存路径\n",
    "    work_dir = './LSTM'\n",
    "    # 添加tensorboard\n",
    "    writer = SummaryWriter(\"{}/logs\".format(work_dir))\n",
    "\n",
    "    # model = model.to(device)\n",
    "    criterion = criterion.to(device)\n",
    "\n",
    "    checkponits = epoch // 5\n",
    "\n",
    "    # 训练模型\n",
    "    for epoch in range(epoch):\n",
    "        epoch = epoch + 1 # from 1\n",
    "        print(\"-------epoch  {} -------\".format(epoch))\n",
    "        # 训练步骤\n",
    "        model.train()\n",
    "        train_loss = 0\n",
    "        for train_data, train_data_real in train_dataloader:\n",
    "            train_data = torch.squeeze(train_data).to(device)\n",
    "            train_data_real = torch.squeeze(train_data_real).to(device)\n",
    "\n",
    "            output = model(train_data)\n",
    "            output = torch.squeeze(output)\n",
    "            loss = criterion(output, train_data_real)\n",
    "            optimizer.zero_grad()\n",
    "            loss.backward()\n",
    "            optimizer.step()\n",
    "            train_loss = train_loss + loss.item()\n",
    "        print(\"train set Loss: {}\".format(loss.item()))\n",
    "\n",
    "        # 测试步骤\n",
    "        model.eval()\n",
    "        total_verify_loss = 0\n",
    "        with torch.no_grad():#用于在推断或验证阶段，当不需要计算梯度时，以提高效率和减少内存占用\n",
    "            for verify_data, verify_data_real in verify_dataloader:\n",
    "                verify_data = torch.squeeze(verify_data).to(device)\n",
    "                verify_data_real = torch.squeeze(verify_data_real).to(device)\n",
    "\n",
    "                verify_output = model(verify_data)\n",
    "                verify_loss = criterion(verify_output, verify_data_real)\n",
    "                total_verify_loss = total_verify_loss + verify_loss.item()\n",
    "        print(\"val set Loss: {}\".format(total_verify_loss))\n",
    "\n",
    "        # save checkpoint\n",
    "        if epoch % checkponits == 0:\n",
    "            torch.save(model.state_dict(), save_path[:-4]+str(epoch)+'.pth')\n",
    "            print(\"save model:epoch {}\".format(epoch))\n",
    "    # save last1\n",
    "    torch.save(model.state_dict(), save_path[:-4]+'last.pth')"
   ],
   "metadata": {
    "collapsed": false,
    "ExecuteTime": {
     "end_time": "2024-03-09T16:06:17.882971400Z",
     "start_time": "2024-03-09T16:03:19.718195400Z"
    }
   }
  },
  {
   "cell_type": "markdown",
   "source": [
    "# 3.eval and plot comparation"
   ],
   "metadata": {
    "collapsed": false
   }
  },
  {
   "cell_type": "code",
   "execution_count": 22,
   "outputs": [
    {
     "name": "stdout",
     "output_type": "stream",
     "text": [
      "(138,)\n",
      "MAE:0.013852808802913478\n",
      "MAPE:0.018918242768403017\n",
      "MSE:0.0003275232435097155\n",
      "RMSE:0.018097603253185643\n"
     ]
    },
    {
     "data": {
      "text/plain": "<Figure size 800x500 with 1 Axes>",
      "image/png": "[encoded data removed]"
     },
     "metadata": {},
     "output_type": "display_data"
    }
   ],
   "source": [
    "test_battery_id = 'B0006'\n",
    "# save_path = save_path\n",
    "save_path = 'seq50_500.pth'\n",
    "\n",
    "test_battery_path = test_directory+ test_battery_id + '.mat'\n",
    "test_data,test_data_real = data_loader(test_battery_path,seq_len,features)\n",
    "# load\n",
    "lstm = LSTMModel(input_size=input_size, hidden_size=hidden_size, output_size=output_size, num_layers=num_layers)\n",
    "lstm.load_state_dict(torch.load(save_path))\n",
    "lstm.eval()\n",
    "output = lstm(test_data)\n",
    "predicted_data = output.detach().numpy().reshape(-1)\n",
    "print(predicted_data.shape)\n",
    "\n",
    "# draw\n",
    "origin_data = norm_data(test_battery_path) # dictionary\n",
    "sns.set_style(\"white\")\n",
    "plt.figure(figsize=(8, 5))\n",
    "#Draw\n",
    "plt.plot([i for i in range(len(origin_data['SOH']))], origin_data['SOH'], label='SOH')\n",
    "# predicted_data = np.concatenate((origin_data['SOH'][0:seq_len],predicted_data), axis = 0)\n",
    "plt.plot([i for i in range(seq_len,len(origin_data['SOH']))], predicted_data, label='Predicted SOH')\n",
    "plt.plot([0.,len(origin_data['SOH'])], [0.70, 0.70], label='Threshold')\n",
    "\n",
    "# make x-axis ticks legible\n",
    "adf = plt.gca().get_xaxis().get_major_formatter()\n",
    "plt.xlabel('cycle')\n",
    "plt.ylabel('SOH')\n",
    "plt.title('Discharge {}'.format(test_battery_id))\n",
    "\n",
    "\n",
    "MAE =  np.mean(np.abs(predicted_data - origin_data['SOH'][seq_len:]))\n",
    "MAPE = np.mean(np.abs((origin_data['SOH'][seq_len:] - predicted_data) / origin_data['SOH'][seq_len:]))\n",
    "MSE = np.mean((predicted_data - origin_data['SOH'][seq_len:]) ** 2)\n",
    "RMSE = np.sqrt(MSE)\n",
    "print('MAE:{}'.format(MAE))\n",
    "print('MAPE:{}'.format(MAPE))\n",
    "print('MSE:{}'.format(MSE))\n",
    "print('RMSE:{}'.format(RMSE))"
   ],
   "metadata": {
    "collapsed": false,
    "ExecuteTime": {
     "end_time": "2024-03-07T11:23:58.743823900Z",
     "start_time": "2024-03-07T11:23:55.955851900Z"
    }
   }
  },
  {
   "cell_type": "markdown",
   "source": [],
   "metadata": {
    "collapsed": false
   }
  }
 ],
 "metadata": {
  "kernelspec": {
   "display_name": "Python 3 (ipykernel)",
   "language": "python",
   "name": "python3"
  },
  "language_info": {
   "codemirror_mode": {
    "name": "ipython",
    "version": 3
   },
   "file_extension": ".py",
   "mimetype": "text/x-python",
   "name": "python",
   "nbconvert_exporter": "python",
   "pygments_lexer": "ipython3",
   "version": "3.9.12"
  }
 },
 "nbformat": 4,
 "nbformat_minor": 5
}
